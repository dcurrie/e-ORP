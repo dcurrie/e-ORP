{
 "cells": [
  {
   "cell_type": "code",
   "execution_count": null,
   "id": "f736ee0b-0eeb-418b-9b53-160fad10aac0",
   "metadata": {},
   "outputs": [],
   "source": [
    "import pandas as pd\n",
    "\n",
    "hd = pd.read_csv('../historical/rates.csv', index_col='year')  # 1970.. Rates of Return by year\n",
    "\n",
    "hde = hd.copy()\n",
    "# hde.index\n",
    "\n",
    "pd.Index(x+max(hd.index)-min(hd.index)+1 for x in range(min(hd.index), max(hd.index)+1))\n",
    "hde = hde.set_index(pd.Index((x+max(hd.index)-min(hd.index)+1 for x in range(min(hd.index), max(hd.index)+1)), name='year'))\n",
    "\n",
    "pd.concat([hd,hde])\n",
    "hde"
   ]
  }
 ],
 "metadata": {
  "kernelspec": {
   "display_name": "ORPy venv",
   "language": "python",
   "name": "orpy-venv"
  },
  "language_info": {
   "codemirror_mode": {
    "name": "ipython",
    "version": 3
   },
   "file_extension": ".py",
   "mimetype": "text/x-python",
   "name": "python",
   "nbconvert_exporter": "python",
   "pygments_lexer": "ipython3",
   "version": "3.13.6"
  }
 },
 "nbformat": 4,
 "nbformat_minor": 5
}
